{
 "cells": [
  {
   "cell_type": "code",
   "execution_count": 2,
   "metadata": {},
   "outputs": [],
   "source": [
    "import pickle\n",
    "from sklearn.feature_extraction.text import TfidfVectorizer\n",
    "from sklearn.datasets import load_files \n",
    "\n",
    "test_files = load_files(container_path=r\"C:\\Users\\Admin\\Documents\\GitHub\\2022-2-Squad03\\data\\raw\\corpora\\reuters\", categories=[\"test\", \"training\"], encoding=\"utf-8\", decode_error=\"ignore\")"
   ]
  },
  {
   "cell_type": "code",
   "execution_count": 3,
   "metadata": {},
   "outputs": [
    {
     "data": {
      "text/plain": [
       "<10788x1639 sparse matrix of type '<class 'numpy.float64'>'\n",
       "\twith 2027470 stored elements in Compressed Sparse Row format>"
      ]
     },
     "execution_count": 3,
     "metadata": {},
     "output_type": "execute_result"
    }
   ],
   "source": [
    "bigrams = TfidfVectorizer(ngram_range=(2, 2),\n",
    "                            lowercase=True,\n",
    "                            analyzer='char_wb',\n",
    "                            strip_accents=\"unicode\")\n",
    "\n",
    "bigram_v = bigrams.fit_transform(test_files.data)\n",
    "bigram_v"
   ]
  },
  {
   "cell_type": "code",
   "execution_count": null,
   "metadata": {},
   "outputs": [],
   "source": [
    "with open('data/processed/newsgroup.pkl', 'wb') as f:\n",
    "    pickle.dump(bigram_v, f)"
   ]
  }
 ],
 "metadata": {
  "kernelspec": {
   "display_name": "Python 3.8.4 64-bit",
   "language": "python",
   "name": "python3"
  },
  "language_info": {
   "codemirror_mode": {
    "name": "ipython",
    "version": 3
   },
   "file_extension": ".py",
   "mimetype": "text/x-python",
   "name": "python",
   "nbconvert_exporter": "python",
   "pygments_lexer": "ipython3",
   "version": "3.8.4"
  },
  "orig_nbformat": 4,
  "vscode": {
   "interpreter": {
    "hash": "a4868653bb6f8972e87e4c446ab8a445a15b25dedb8594cc74c480f8152ea86a"
   }
  }
 },
 "nbformat": 4,
 "nbformat_minor": 2
}
