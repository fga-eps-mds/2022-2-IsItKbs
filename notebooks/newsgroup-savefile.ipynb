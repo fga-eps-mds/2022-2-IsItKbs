{
 "cells": [
  {
   "cell_type": "code",
   "execution_count": 1,
   "metadata": {},
   "outputs": [],
   "source": [
    "from sklearn import datasets\n",
    "from sklearn.feature_extraction.text import TfidfVectorizer\n",
    "\n",
    "\n",
    "news_train = datasets.fetch_20newsgroups(data_home = \"data/raw\", subset = \"all\", shuffle = True, remove = (\"headers\", \"footers\", \"quotes\"))"
   ]
  },
  {
   "cell_type": "code",
   "execution_count": 2,
   "metadata": {},
   "outputs": [
    {
     "data": {
      "text/plain": [
       "<18846x4706 sparse matrix of type '<class 'numpy.float64'>'\n",
       "\twith 3869669 stored elements in Compressed Sparse Row format>"
      ]
     },
     "execution_count": 2,
     "metadata": {},
     "output_type": "execute_result"
    }
   ],
   "source": [
    "bigram_vectorizer = TfidfVectorizer(ngram_range=(2, 2),\n",
    "                            lowercase=True,\n",
    "                            analyzer='char_wb')\n",
    "\n",
    "bigrams_vectors = bigram_vectorizer.fit_transform(news_train.data)\n",
    "bigrams_vectors"
   ]
  },
  {
   "cell_type": "code",
   "execution_count": 9,
   "metadata": {},
   "outputs": [],
   "source": [
    "import pickle\n",
    "\n",
    "with open('data/processed/newsgroup.pkl', 'wb') as f:\n",
    "    pickle.dump(bigrams_vectors, f)"
   ]
  }
 ],
 "metadata": {
  "kernelspec": {
   "display_name": "Python 3.11.0 64-bit",
   "language": "python",
   "name": "python3"
  },
  "language_info": {
   "codemirror_mode": {
    "name": "ipython",
    "version": 3
   },
   "file_extension": ".py",
   "mimetype": "text/x-python",
   "name": "python",
   "nbconvert_exporter": "python",
   "pygments_lexer": "ipython3",
   "version": "3.11.0"
  },
  "orig_nbformat": 4,
  "vscode": {
   "interpreter": {
    "hash": "a39d81b61f9ce6a24f8f526befdd921f4c6667ad35f1e729c3a4277aa5c26a6d"
   }
  }
 },
 "nbformat": 4,
 "nbformat_minor": 2
}
